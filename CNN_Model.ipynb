{
  "nbformat": 4,
  "nbformat_minor": 0,
  "metadata": {
    "colab": {
      "name": "CNN_Model.ipynb",
      "provenance": [],
      "include_colab_link": true
    },
    "kernelspec": {
      "name": "python3",
      "display_name": "Python 3"
    }
  },
  "cells": [
    {
      "cell_type": "markdown",
      "metadata": {
        "id": "view-in-github",
        "colab_type": "text"
      },
      "source": [
        "<a href=\"https://colab.research.google.com/github/gayaniindunil/NNtraining_code_lib/blob/master/CNN_Model.ipynb\" target=\"_parent\"><img src=\"https://colab.research.google.com/assets/colab-badge.svg\" alt=\"Open In Colab\"/></a>"
      ]
    },
    {
      "cell_type": "code",
      "metadata": {
        "id": "XkPBu3WduGEl",
        "colab_type": "code",
        "colab": {}
      },
      "source": [
        "import numpy as np\n",
        "from keras.models import Sequential,Model\n",
        "from keras.layers import * \n",
        "from keras.optimizers import *"
      ],
      "execution_count": 0,
      "outputs": []
    },
    {
      "cell_type": "code",
      "metadata": {
        "id": "IKtlm4uLyniU",
        "colab_type": "code",
        "colab": {
          "base_uri": "https://localhost:8080/",
          "height": 156
        },
        "outputId": "6877d998-b271-44c1-9772-24d82ba533d5"
      },
      "source": [
        "input_shape = [58,40,1]\n",
        "num_classes = 10\n",
        "\n",
        "model = Sequential()\n",
        "model.add(Conv2D(128,(3,3),activation='relu',padding=\"same\", input_shape = input_shape))\n",
        "model.add(Conv2D(128,(3,3),activation='relu',padding=\"same\"))\n",
        "model.add(Conv2D(128,(3,3),activation='relu',padding=\"same\"))\n",
        "\n",
        "model.add(Flatten())\n",
        "model.add(Dense(num_classes,activation=\"sigmoid\"))\n",
        "\n",
        "model.compile(optimizer='rmsprop',\n",
        "              loss='binary_crossentropy',\n",
        "              metrics=['accuracy'])\n"
      ],
      "execution_count": 11,
      "outputs": [
        {
          "output_type": "stream",
          "text": [
            "WARNING:tensorflow:From /usr/local/lib/python3.6/dist-packages/keras/optimizers.py:793: The name tf.train.Optimizer is deprecated. Please use tf.compat.v1.train.Optimizer instead.\n",
            "\n",
            "WARNING:tensorflow:From /usr/local/lib/python3.6/dist-packages/keras/backend/tensorflow_backend.py:3657: The name tf.log is deprecated. Please use tf.math.log instead.\n",
            "\n",
            "WARNING:tensorflow:From /usr/local/lib/python3.6/dist-packages/tensorflow_core/python/ops/nn_impl.py:183: where (from tensorflow.python.ops.array_ops) is deprecated and will be removed in a future version.\n",
            "Instructions for updating:\n",
            "Use tf.where in 2.0, which has the same broadcast rule as np.where\n"
          ],
          "name": "stdout"
        }
      ]
    },
    {
      "cell_type": "code",
      "metadata": {
        "id": "pSPj6VDVQxf6",
        "colab_type": "code",
        "colab": {
          "base_uri": "https://localhost:8080/",
          "height": 139
        },
        "outputId": "27ed8987-3880-4cc5-f624-2c85d206e253"
      },
      "source": [
        "input_shape = [58,40,1]\n",
        "\n",
        "input_1=Input(shape=input_shape)\n",
        "x=Conv2D(54,kernel_size=(12,8),activation='relu',bias_initializer='random_uniform',use_bias=True)(input_1)\n",
        "x=Flatten()(x)\n",
        "x=Dropout( rate = 1-.4)(x)\n",
        "x=Dense(32,activation='linear',use_bias=True)(x)\n",
        "x=Dropout(rate = 1-.5)(x)\n",
        "x=Dense(128,activation='relu',use_bias=True,bias_initializer='random_uniform')(x)\n",
        "x=Dropout(rate = 1-.5)(x)\n",
        "x=Dense(128,activation='relu',use_biaTrue,bias_initializer='random_uniform')(x)\n",
        "x=Dense(2,use_bias=True)(x)\n",
        "x=Activation('softmax')(x)\n",
        "\n",
        "model=Model(inputs=input_1,outputs=x)"
      ],
      "execution_count": 8,
      "outputs": [
        {
          "output_type": "stream",
          "text": [
            "WARNING:tensorflow:From /usr/local/lib/python3.6/dist-packages/keras/backend/tensorflow_backend.py:148: The name tf.placeholder_with_default is deprecated. Please use tf.compat.v1.placeholder_with_default instead.\n",
            "\n",
            "WARNING:tensorflow:From /usr/local/lib/python3.6/dist-packages/keras/backend/tensorflow_backend.py:3733: calling dropout (from tensorflow.python.ops.nn_ops) with keep_prob is deprecated and will be removed in a future version.\n",
            "Instructions for updating:\n",
            "Please use `rate` instead of `keep_prob`. Rate should be set to `rate = 1 - keep_prob`.\n",
            "WARNING:tensorflow:Large dropout rate: 0.6 (>0.5). In TensorFlow 2.x, dropout() uses dropout rate instead of keep_prob. Please ensure that this is intended.\n"
          ],
          "name": "stdout"
        }
      ]
    }
  ]
}